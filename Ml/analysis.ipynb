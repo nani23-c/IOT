{
 "cells": [
  {
   "cell_type": "code",
   "execution_count": 2,
   "metadata": {},
   "outputs": [],
   "source": [
    "import pandas as pd \n",
    "import numpy as np\n",
    "import matplotlib.pyplot as plt\n",
    "import seaborn as sns\n"
   ]
  },
  {
   "cell_type": "code",
   "execution_count": null,
   "metadata": {},
   "outputs": [],
   "source": [
    "data = pd.read_csv('results.csv')\n",
    "data.head()\n"
   ]
  },
  {
   "cell_type": "code",
   "execution_count": 4,
   "metadata": {},
   "outputs": [
    {
     "data": {
      "text/plain": [
       "(531, 4)"
      ]
     },
     "execution_count": 4,
     "metadata": {},
     "output_type": "execute_result"
    }
   ],
   "source": [
    "data.shape\n"
   ]
  },
  {
   "cell_type": "code",
   "execution_count": 5,
   "metadata": {},
   "outputs": [
    {
     "data": {
      "text/plain": [
       "(282, 4)"
      ]
     },
     "execution_count": 5,
     "metadata": {},
     "output_type": "execute_result"
    }
   ],
   "source": [
    "data.dropna(inplace=True)\n",
    "data.shape"
   ]
  },
  {
   "cell_type": "code",
   "execution_count": 7,
   "metadata": {},
   "outputs": [],
   "source": [
    "#creare a new column and make it 0  for every riw\n",
    "data['Time'] = 0\n",
    "    "
   ]
  },
  {
   "cell_type": "code",
   "execution_count": 19,
   "metadata": {},
   "outputs": [],
   "source": [
    "#to iterate through every length of the route and make length of 4 for every route\n",
    "data['route'] = data['route'].apply(lambda x: x[:4])\n",
    "data = data[~data['route'].str.contains('-')]\n",
    "\n"
   ]
  },
  {
   "cell_type": "code",
   "execution_count": 20,
   "metadata": {},
   "outputs": [
    {
     "data": {
      "text/html": [
       "<div>\n",
       "<style scoped>\n",
       "    .dataframe tbody tr th:only-of-type {\n",
       "        vertical-align: middle;\n",
       "    }\n",
       "\n",
       "    .dataframe tbody tr th {\n",
       "        vertical-align: top;\n",
       "    }\n",
       "\n",
       "    .dataframe thead th {\n",
       "        text-align: right;\n",
       "    }\n",
       "</style>\n",
       "<table border=\"1\" class=\"dataframe\">\n",
       "  <thead>\n",
       "    <tr style=\"text-align: right;\">\n",
       "      <th></th>\n",
       "      <th>url</th>\n",
       "      <th>route</th>\n",
       "      <th>x</th>\n",
       "      <th>y</th>\n",
       "      <th>Time</th>\n",
       "    </tr>\n",
       "  </thead>\n",
       "  <tbody>\n",
       "    <tr>\n",
       "      <th>1</th>\n",
       "      <td>43b9c82c-e0a7-4fbd-8ad6-a54c71d1ce26</td>\n",
       "      <td>D3D2</td>\n",
       "      <td>0.41519442</td>\n",
       "      <td>3.082648</td>\n",
       "      <td>15</td>\n",
       "    </tr>\n",
       "    <tr>\n",
       "      <th>2</th>\n",
       "      <td>9871984a-4359-4046-922b-01fb3bee4dd0</td>\n",
       "      <td>D3D2</td>\n",
       "      <td>2.2702882</td>\n",
       "      <td>4.020018</td>\n",
       "      <td>14</td>\n",
       "    </tr>\n",
       "    <tr>\n",
       "      <th>4</th>\n",
       "      <td>5bed834c-be98-4db0-9ce5-e1321648f0cc</td>\n",
       "      <td>D3D2</td>\n",
       "      <td>5.9617763</td>\n",
       "      <td>3.340837</td>\n",
       "      <td>15</td>\n",
       "    </tr>\n",
       "    <tr>\n",
       "      <th>8</th>\n",
       "      <td>f7d39835-05f3-4fcb-b619-8629e1235386</td>\n",
       "      <td>D2D1</td>\n",
       "      <td>1.0271356</td>\n",
       "      <td>3.749104</td>\n",
       "      <td>8</td>\n",
       "    </tr>\n",
       "    <tr>\n",
       "      <th>9</th>\n",
       "      <td>6465bb27-1ccd-4bb1-962a-8bf0173c0651</td>\n",
       "      <td>D3D2</td>\n",
       "      <td>0.45751074</td>\n",
       "      <td>3.135275</td>\n",
       "      <td>15</td>\n",
       "    </tr>\n",
       "  </tbody>\n",
       "</table>\n",
       "</div>"
      ],
      "text/plain": [
       "                                    url route           x         y  Time\n",
       "1  43b9c82c-e0a7-4fbd-8ad6-a54c71d1ce26  D3D2  0.41519442  3.082648    15\n",
       "2  9871984a-4359-4046-922b-01fb3bee4dd0  D3D2   2.2702882  4.020018    14\n",
       "4  5bed834c-be98-4db0-9ce5-e1321648f0cc  D3D2   5.9617763  3.340837    15\n",
       "8  f7d39835-05f3-4fcb-b619-8629e1235386  D2D1   1.0271356  3.749104     8\n",
       "9  6465bb27-1ccd-4bb1-962a-8bf0173c0651  D3D2  0.45751074  3.135275    15"
      ]
     },
     "execution_count": 20,
     "metadata": {},
     "output_type": "execute_result"
    }
   ],
   "source": [
    "data.head()"
   ]
  },
  {
   "cell_type": "code",
   "execution_count": null,
   "metadata": {},
   "outputs": [],
   "source": []
  },
  {
   "cell_type": "code",
   "execution_count": 21,
   "metadata": {},
   "outputs": [
    {
     "data": {
      "text/plain": [
       "array(['D3D2', 'D3D2', 'D3D2', 'D2D1', 'D3D2', 'D1D2', 'D1D2', 'D2D1',\n",
       "       'D2D2', 'D3D2', 'D2D2', 'D2D2', 'D2D2', 'D2D2', 'D2D1', 'D2D1',\n",
       "       'D2D1', 'D2D2', 'D3D2', 'D2D1', 'D3D1', 'D2D1', 'D2D2', 'D2D1',\n",
       "       'D2D2', 'D2D2', 'D1D2', 'D2D1', 'D2D2', 'D2D2', 'D3D3', 'D2D1',\n",
       "       'D3D2', 'D2D3', 'D3D1', 'D2D1', 'D2D2', 'D3D2', 'D3D1', 'D3D1',\n",
       "       'D2D2', 'D2D1', 'D1D2', 'D2D1', 'D2D1', 'D2D3', 'D3D2', 'D2D2',\n",
       "       'D1D2', 'D2D2', 'D2D1', 'D2D1', 'D2D2', 'D2D1', 'D2D2', 'D3D2',\n",
       "       'D1D2', 'D1D2', 'D2D2', 'D3D2', 'D3D2', 'D2D3', 'D2D1', 'D3D3',\n",
       "       'D2D3', 'D2D1', 'D3D1', 'D2D2', 'D2D2', 'D3D3', 'D2D3', 'D2D3',\n",
       "       'D2D1', 'D2D2', 'D2D1', 'D3D2', 'D2D1', 'D2D2', 'D2D1', 'D2D3',\n",
       "       'D2D2', 'D1D2', 'D2D1', 'D2D2', 'D2D2', 'D2D2', 'D2D2', 'D3D1',\n",
       "       'D2D3', 'D2D2', 'D2D2', 'D3D3', 'D2D1', 'D2D1', 'D2D2', 'D2D1',\n",
       "       'D2D3', 'D3D2', 'D3D2', 'D3D2', 'D2D2', 'D2D3', 'D2D3', 'D3D2',\n",
       "       'D2D2', 'D3D3', 'D3D2', 'D1D2', 'D3D3', 'D3D2', 'D2D1', 'D2D2',\n",
       "       'D3D1', 'D3D2', 'D2D2', 'D2D2', 'D2D1', 'D1D2', 'D2D3', 'D2D2',\n",
       "       'D2D1', 'D2D1', 'D2D3', 'D2D2', 'D1D2', 'D2D3', 'D2D2', 'D2D2',\n",
       "       'D2D2', 'D1D1', 'D2D1', 'D2D2', 'D2D2', 'D2D3', 'D2D1', 'D2D2',\n",
       "       'D2D1', 'D2D3', 'D2D3', 'D2D2', 'D2D2', 'D2D1', 'D2D1', 'D2D1',\n",
       "       'D2D3', 'D3D2', 'D2D3', 'D1D2', 'D2D3', 'D2D2', 'D2D2', 'D2D3',\n",
       "       'D3D1', 'D2D2', 'D2D3', 'D3D1', 'D2D1', 'D3D2', 'D3D3', 'D2D3',\n",
       "       'D3D2', 'D3D3', 'D3D3', 'D2D3', 'D2D1', 'D2D3', 'D1D2', 'D2D2',\n",
       "       'D2D2', 'D2D2', 'D2D3', 'D2D2', 'D3D3', 'D2D1', 'D3D2', 'D3D2',\n",
       "       'D2D2', 'D3D1', 'D2D2', 'D2D2', 'D3D1', 'D2D1', 'D2D1', 'D1D2',\n",
       "       'D1D2', 'D2D3', 'D3D2', 'D2D2', 'D2D1', 'D3D2', 'D2D1', 'D2D1',\n",
       "       'D3D3', 'D3D2', 'D2D2', 'D3D1', 'D2D3', 'D3D1', 'D2D2', 'D2D2',\n",
       "       'D1D2', 'D2D2', 'D2D2', 'D3D3', 'D3D1', 'D3D1', 'D2D1', 'D3D1',\n",
       "       'D2D1', 'D2D2', 'D2D3', 'D2D1', 'D2D1', 'D2D2', 'D3D1', 'D2D2',\n",
       "       'D2D3', 'D1D2', 'D2D1', 'D3D2', 'D3D2', 'D3D2', 'D2D1', 'D2D3',\n",
       "       'D2D3', 'D2D1', 'D1D2', 'D3D1', 'D2D3', 'D2D2', 'D3D1', 'D2D2',\n",
       "       'D2D1', 'D2D3', 'D2D3', 'D2D2', 'D2D2', 'D3D3', 'D3D1', 'D2D2',\n",
       "       'D3D2', 'D2D2', 'D2D1', 'D2D1', 'D3D3', 'D1D2'], dtype=object)"
      ]
     },
     "execution_count": 21,
     "metadata": {},
     "output_type": "execute_result"
    }
   ],
   "source": [
    "data['route'].values"
   ]
  },
  {
   "cell_type": "code",
   "execution_count": 22,
   "metadata": {},
   "outputs": [
    {
     "data": {
      "text/plain": [
       "route\n",
       "D1D1     1.000000\n",
       "D1D2     8.000000\n",
       "D2D1     7.800000\n",
       "D2D2     1.000000\n",
       "D2D3    15.257143\n",
       "D3D1    10.950000\n",
       "D3D2    15.000000\n",
       "D3D3     1.000000\n",
       "Name: Time, dtype: float64"
      ]
     },
     "execution_count": 22,
     "metadata": {},
     "output_type": "execute_result"
    }
   ],
   "source": [
    "#to get average time depending on the route \n",
    "data.groupby('route')['Time'].mean()"
   ]
  },
  {
   "cell_type": "code",
   "execution_count": 23,
   "metadata": {},
   "outputs": [
    {
     "data": {
      "text/html": [
       "<div>\n",
       "<style scoped>\n",
       "    .dataframe tbody tr th:only-of-type {\n",
       "        vertical-align: middle;\n",
       "    }\n",
       "\n",
       "    .dataframe tbody tr th {\n",
       "        vertical-align: top;\n",
       "    }\n",
       "\n",
       "    .dataframe thead th {\n",
       "        text-align: right;\n",
       "    }\n",
       "</style>\n",
       "<table border=\"1\" class=\"dataframe\">\n",
       "  <thead>\n",
       "    <tr style=\"text-align: right;\">\n",
       "      <th></th>\n",
       "      <th>url</th>\n",
       "      <th>route</th>\n",
       "      <th>x</th>\n",
       "      <th>y</th>\n",
       "      <th>Time</th>\n",
       "    </tr>\n",
       "  </thead>\n",
       "  <tbody>\n",
       "    <tr>\n",
       "      <th>1</th>\n",
       "      <td>43b9c82c-e0a7-4fbd-8ad6-a54c71d1ce26</td>\n",
       "      <td>D3D2</td>\n",
       "      <td>0.41519442</td>\n",
       "      <td>3.082648</td>\n",
       "      <td>15</td>\n",
       "    </tr>\n",
       "    <tr>\n",
       "      <th>2</th>\n",
       "      <td>9871984a-4359-4046-922b-01fb3bee4dd0</td>\n",
       "      <td>D3D2</td>\n",
       "      <td>2.2702882</td>\n",
       "      <td>4.020018</td>\n",
       "      <td>14</td>\n",
       "    </tr>\n",
       "    <tr>\n",
       "      <th>4</th>\n",
       "      <td>5bed834c-be98-4db0-9ce5-e1321648f0cc</td>\n",
       "      <td>D3D2</td>\n",
       "      <td>5.9617763</td>\n",
       "      <td>3.340837</td>\n",
       "      <td>15</td>\n",
       "    </tr>\n",
       "    <tr>\n",
       "      <th>8</th>\n",
       "      <td>f7d39835-05f3-4fcb-b619-8629e1235386</td>\n",
       "      <td>D2D1</td>\n",
       "      <td>1.0271356</td>\n",
       "      <td>3.749104</td>\n",
       "      <td>8</td>\n",
       "    </tr>\n",
       "    <tr>\n",
       "      <th>9</th>\n",
       "      <td>6465bb27-1ccd-4bb1-962a-8bf0173c0651</td>\n",
       "      <td>D3D2</td>\n",
       "      <td>0.45751074</td>\n",
       "      <td>3.135275</td>\n",
       "      <td>15</td>\n",
       "    </tr>\n",
       "    <tr>\n",
       "      <th>...</th>\n",
       "      <td>...</td>\n",
       "      <td>...</td>\n",
       "      <td>...</td>\n",
       "      <td>...</td>\n",
       "      <td>...</td>\n",
       "    </tr>\n",
       "    <tr>\n",
       "      <th>524</th>\n",
       "      <td>84fc9b44-4b30-497a-b96b-dafd5015f67a</td>\n",
       "      <td>D2D2</td>\n",
       "      <td>1.724892</td>\n",
       "      <td>9.393477</td>\n",
       "      <td>1</td>\n",
       "    </tr>\n",
       "    <tr>\n",
       "      <th>526</th>\n",
       "      <td>aeb70382-dbdc-4384-9d41-30b14a6e715f</td>\n",
       "      <td>D2D1</td>\n",
       "      <td>0.54376876</td>\n",
       "      <td>3.203155</td>\n",
       "      <td>8</td>\n",
       "    </tr>\n",
       "    <tr>\n",
       "      <th>527</th>\n",
       "      <td>f9a268ac-4e06-4e64-9290-625d7d42c4e1</td>\n",
       "      <td>D2D1</td>\n",
       "      <td>6.1831465</td>\n",
       "      <td>3.282909</td>\n",
       "      <td>8</td>\n",
       "    </tr>\n",
       "    <tr>\n",
       "      <th>528</th>\n",
       "      <td>100a1a39-ceb7-458d-b931-dbd5c6209a59</td>\n",
       "      <td>D3D3</td>\n",
       "      <td>0.6393661</td>\n",
       "      <td>3.276303</td>\n",
       "      <td>1</td>\n",
       "    </tr>\n",
       "    <tr>\n",
       "      <th>530</th>\n",
       "      <td>61414c40-bcc4-47cb-8468-b0b2c0921217</td>\n",
       "      <td>D1D2</td>\n",
       "      <td>0.39915264</td>\n",
       "      <td>3.057078</td>\n",
       "      <td>9</td>\n",
       "    </tr>\n",
       "  </tbody>\n",
       "</table>\n",
       "<p>246 rows × 5 columns</p>\n",
       "</div>"
      ],
      "text/plain": [
       "                                      url route           x         y  Time\n",
       "1    43b9c82c-e0a7-4fbd-8ad6-a54c71d1ce26  D3D2  0.41519442  3.082648    15\n",
       "2    9871984a-4359-4046-922b-01fb3bee4dd0  D3D2   2.2702882  4.020018    14\n",
       "4    5bed834c-be98-4db0-9ce5-e1321648f0cc  D3D2   5.9617763  3.340837    15\n",
       "8    f7d39835-05f3-4fcb-b619-8629e1235386  D2D1   1.0271356  3.749104     8\n",
       "9    6465bb27-1ccd-4bb1-962a-8bf0173c0651  D3D2  0.45751074  3.135275    15\n",
       "..                                    ...   ...         ...       ...   ...\n",
       "524  84fc9b44-4b30-497a-b96b-dafd5015f67a  D2D2    1.724892  9.393477     1\n",
       "526  aeb70382-dbdc-4384-9d41-30b14a6e715f  D2D1  0.54376876  3.203155     8\n",
       "527  f9a268ac-4e06-4e64-9290-625d7d42c4e1  D2D1   6.1831465  3.282909     8\n",
       "528  100a1a39-ceb7-458d-b931-dbd5c6209a59  D3D3   0.6393661  3.276303     1\n",
       "530  61414c40-bcc4-47cb-8468-b0b2c0921217  D1D2  0.39915264  3.057078     9\n",
       "\n",
       "[246 rows x 5 columns]"
      ]
     },
     "execution_count": 23,
     "metadata": {},
     "output_type": "execute_result"
    }
   ],
   "source": [
    "data"
   ]
  },
  {
   "cell_type": "code",
   "execution_count": null,
   "metadata": {},
   "outputs": [],
   "source": [
    "#convert route to number using one hot encoding and train the data to predict the time using the route\n",
    "encoder = OneHotEncoder()\n",
    "X = encoder.fit_transform(data[['route']]).toarray()\n",
    "y = data['Time'].values"
   ]
  },
  {
   "cell_type": "code",
   "execution_count": 26,
   "metadata": {},
   "outputs": [
    {
     "name": "stdout",
     "output_type": "stream",
     "text": [
      "Mean Squared Error: 0.69857421875\n",
      "R^2 Score: 0.9789586078689759\n"
     ]
    },
    {
     "data": {
      "image/png": "[encoded data removed]",
      "text/plain": [
       "<Figure size 640x480 with 1 Axes>"
      ]
     },
     "metadata": {},
     "output_type": "display_data"
    }
   ],
   "source": [
    "import pandas as pd\n",
    "from sklearn.model_selection import train_test_split\n",
    "from sklearn.linear_model import LinearRegression\n",
    "from sklearn.metrics import mean_squared_error\n",
    "from sklearn.preprocessing import OneHotEncoder\n",
    "import matplotlib.pyplot as plt\n",
    "from sklearn.metrics import r2_score\n",
    "\n",
    "\n",
    "# One-hot encode the route column\n",
    "encoder = OneHotEncoder()\n",
    "X = encoder.fit_transform(data[['route']]).toarray()\n",
    "\n",
    "y = data['Time'].values\n",
    "\n",
    "# Split the data\n",
    "X_train, X_test, y_train, y_test = train_test_split(X, y, test_size=0.2, random_state=42)\n",
    "\n",
    "# Train the model\n",
    "model = LinearRegression()\n",
    "model.fit(X_train, y_train)\n",
    "\n",
    "# Predict\n",
    "y_pred = model.predict(X_test)\n",
    "\n",
    "# Evaluate\n",
    "mse = mean_squared_error(y_test, y_pred)\n",
    "r2 = r2_score(y_test, y_pred)\n",
    "print(f'Mean Squared Error: {mse}')\n",
    "print(f'R^2 Score: {r2}')\n",
    "# Plot the results\n",
    "plt.scatter(range(len(y_test)), y_test, color='black', label='Actual')\n",
    "plt.scatter(range(len(y_test)), y_pred, color='blue', label='Predicted')\n",
    "plt.xlabel('Test Sample Index')\n",
    "plt.ylabel('Time')\n",
    "plt.legend()\n",
    "plt.show()\n"
   ]
  },
  {
   "cell_type": "code",
   "execution_count": 29,
   "metadata": {},
   "outputs": [
    {
     "name": "stdout",
     "output_type": "stream",
     "text": [
      "Mean Squared Error: 0.699399573114407\n",
      "R^2 Score: 0.9789337477977589\n",
      "Mean Absolute Error: 0.5041606014051087\n"
     ]
    },
    {
     "data": {
      "image/png": "[encoded data removed]",
      "text/plain": [
       "<Figure size 640x480 with 1 Axes>"
      ]
     },
     "metadata": {},
     "output_type": "display_data"
    }
   ],
   "source": [
    "#use random forest to predict the time\n",
    "from sklearn.ensemble import RandomForestRegressor\n",
    "from sklearn.metrics import mean_absolute_error \n",
    "\n",
    "# Train the model\n",
    "model = RandomForestRegressor()\n",
    "model.fit(X_train, y_train)\n",
    "\n",
    "# Predict\n",
    "y_pred = model.predict(X_test)\n",
    "\n",
    "# Evaluate\n",
    "mse = mean_squared_error(y_test, y_pred)\n",
    "r2 = r2_score(y_test, y_pred)\n",
    "mae = mean_absolute_error(y_test, y_pred)\n",
    "print(f'Mean Squared Error: {mse}')\n",
    "print(f'R^2 Score: {r2}')\n",
    "print(f'Mean Absolute Error: {mae}')\n",
    "# Plot the results\n",
    "plt.scatter(range(len(y_test)), y_test, color='black', label='Actual')\n",
    "plt.scatter(range(len(y_test)), y_pred, color='blue', label='Predicted')\n",
    "plt.xlabel('Test Sample Index')\n",
    "plt.ylabel('Time')\n",
    "plt.legend()\n",
    "plt.show()\n",
    "\n"
   ]
  },
  {
   "cell_type": "code",
   "execution_count": 30,
   "metadata": {},
   "outputs": [
    {
     "name": "stdout",
     "output_type": "stream",
     "text": [
      "Mean Squared Error: 0.6989823952020202\n",
      "R^2 Score: 0.9789463133975295\n",
      "Mean Absolute Error: 0.5048560606060606\n"
     ]
    },
    {
     "data": {
      "image/png": "[encoded data removed]",
      "text/plain": [
       "<Figure size 640x480 with 1 Axes>"
      ]
     },
     "metadata": {},
     "output_type": "display_data"
    }
   ],
   "source": [
    "#use decision tree to predict the time\n",
    "from sklearn.tree import DecisionTreeRegressor\n",
    "\n",
    "# Train the model\n",
    "model = DecisionTreeRegressor()\n",
    "model.fit(X_train, y_train)\n",
    "\n",
    "# Predict\n",
    "y_pred = model.predict(X_test)\n",
    "\n",
    "# Evaluate\n",
    "mse = mean_squared_error(y_test, y_pred)\n",
    "r2 = r2_score(y_test, y_pred)\n",
    "mae = mean_absolute_error(y_test, y_pred)\n",
    "print(f'Mean Squared Error: {mse}')\n",
    "print(f'R^2 Score: {r2}')\n",
    "print(f'Mean Absolute Error: {mae}')\n",
    "# Plot the results\n",
    "plt.scatter(range(len(y_test)), y_test, color='black', label='Actual')\n",
    "plt.scatter(range(len(y_test)), y_pred, color='blue', label='Predicted')\n",
    "plt.xlabel('Test Sample Index')\n",
    "plt.ylabel('Time')\n",
    "plt.legend()\n",
    "plt.show()\n",
    "\n"
   ]
  },
  {
   "cell_type": "code",
   "execution_count": null,
   "metadata": {},
   "outputs": [],
   "source": [
    "#convert the route to a number and train the data to predict the time using the route\n",
    "\"\"\"\n",
    "data['route'] = data['route'].apply(lambda x: int(x))\n",
    "X = data[['route']].values\n",
    "y = data['Time'].values\n",
    "\n",
    "X_train, X_test, y_train, y_test = train_test_split(X, y, test_size=0.2, random_state=42)\n",
    "\n",
    "model = LinearRegression()\n",
    "model.fit(X_train, y_train)\n",
    "\n",
    "y_pred = model.predict(X_test)\n",
    "\n",
    "mean_squared_error(y_test, y_pred)\n",
    "\n",
    "plt.scatter(X_test, y_test, color='black')\n",
    "plt.plot(X_test, y_pred, color='blue', linewidth=3)\n",
    "plt.show()\n"
   ]
  },
  {
   "cell_type": "code",
   "execution_count": null,
   "metadata": {},
   "outputs": [],
   "source": [
    "#Train the data to predict the time using the route\n",
    "'''\n",
    "from sklearn.model_selection import train_test_split\n",
    "from sklearn.linear_model import LinearRegression\n",
    "from sklearn.metrics import mean_squared_error\n",
    "from sklearn.preprocessing import OneHotEncoder\n",
    "\n",
    "encoder = OneHotEncoder()\n",
    "X = encoder.fit_transform(data[['route']]).toarray()\n",
    "y = data['Time'].values\n",
    "\n",
    "X_train, X_test, y_train, y_test = train_test_split(X, y, test_size=0.2, random_state=42)\n",
    "\n",
    "X_train = X_train.reshape(-1, 1)\n",
    "X_test = X_test.reshape(-1, 1)\n",
    "\n",
    "model = LinearRegression()\n",
    "model.fit(X_train, y_train)\n",
    "\n",
    "y_pred = model.predict(X_test)\n",
    "\n",
    "mean_squared_error(y_test, y_pred)\n",
    "\n",
    "#plot the data\n",
    "plt.scatter(X_test, y_test, color='black')\n",
    "plt.plot(X_test, y_pred, color='blue', linewidth=3)\n",
    "plt.show()\n"
   ]
  },
  {
   "cell_type": "code",
   "execution_count": 25,
   "metadata": {},
   "outputs": [
    {
     "data": {
      "text/plain": [
       "\"\\ndef calculate_time(row):\\n    k = row['route']\\n    a = k[1]\\n    b = k[3]\\n    \\n    if a == b:\\n        return 1\\n    c=a+b\\n    \\n\\n    ranges = {\\n        '1': (1, 4),\\n        '2': (5, 8),\\n        '3': (8, 11),\\n        '4': (11, 14),\\n        '5': (14, 17),\\n    }\\n   \\n\\n\\n    time_a = np.random.randint(*ranges.get(a, (1, 17)))\\n    \\n\\n    time_b = np.random.randint(*ranges.get(b, (1, 17)))\\n    \\n\\n   # time_c = np.random.randint(*ranges.get(c, (1, 17)))\\n    \\n    total_time = time_a + time_b \\n    #+ time_c\\n    \\n    return total_time\\n\\n\\n\\ndata['Time'] = data.apply(calculate_time, axis=1)\\n\""
      ]
     },
     "execution_count": 25,
     "metadata": {},
     "output_type": "execute_result"
    }
   ],
   "source": [
    "\"\"\"\n",
    "def calculate_time(row):\n",
    "    k = row['route']\n",
    "    a = k[1]\n",
    "    b = k[3]\n",
    "    \n",
    "    if a == b:\n",
    "        return 1\n",
    "    c=a+b\n",
    "    \n",
    "\n",
    "    ranges = {\n",
    "        '1': (1, 4),\n",
    "        '2': (5, 8),\n",
    "        '3': (8, 11),\n",
    "        '4': (11, 14),\n",
    "        '5': (14, 17),\n",
    "    }\n",
    "   \n",
    "\n",
    "\n",
    "    time_a = np.random.randint(*ranges.get(a, (1, 17)))\n",
    "    \n",
    "\n",
    "    time_b = np.random.randint(*ranges.get(b, (1, 17)))\n",
    "    \n",
    "\n",
    "   # time_c = np.random.randint(*ranges.get(c, (1, 17)))\n",
    "    \n",
    "    total_time = time_a + time_b \n",
    "    #+ time_c\n",
    "    \n",
    "    return total_time\n",
    "\n",
    "\n",
    "\n",
    "data['Time'] = data.apply(calculate_time, axis=1)\n",
    "\"\"\"\n"
   ]
  }
 ],
 "metadata": {
  "kernelspec": {
   "display_name": "Python 3",
   "language": "python",
   "name": "python3"
  },
  "language_info": {
   "codemirror_mode": {
    "name": "ipython",
    "version": 3
   },
   "file_extension": ".py",
   "mimetype": "text/x-python",
   "name": "python",
   "nbconvert_exporter": "python",
   "pygments_lexer": "ipython3",
   "version": "3.11.7"
  }
 },
 "nbformat": 4,
 "nbformat_minor": 2
}
